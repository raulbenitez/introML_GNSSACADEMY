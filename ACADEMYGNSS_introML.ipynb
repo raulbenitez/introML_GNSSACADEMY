{
  "nbformat": 4,
  "nbformat_minor": 0,
  "metadata": {
    "colab": {
      "name": "ACADEMYGNSS_introML.ipynb",
      "provenance": [],
      "toc_visible": true,
      "authorship_tag": "ABX9TyMb+JMhWjrhl8jkdlJxJqON",
      "include_colab_link": true
    },
    "kernelspec": {
      "name": "python3",
      "display_name": "Python 3"
    },
    "language_info": {
      "name": "python"
    }
  },
  "cells": [
    {
      "cell_type": "markdown",
      "metadata": {
        "id": "view-in-github",
        "colab_type": "text"
      },
      "source": [
        "<a href=\"https://colab.research.google.com/github/raulbenitez/introML_GNSSACADEMY/blob/main/ACADEMYGNSS_introML.ipynb\" target=\"_parent\"><img src=\"https://colab.research.google.com/assets/colab-badge.svg\" alt=\"Open In Colab\"/></a>"
      ]
    },
    {
      "cell_type": "markdown",
      "metadata": {
        "id": "Qhr09XzUP6lq"
      },
      "source": [
        "# A brief introduction to machine learning\n",
        "\n",
        "Topics:\n",
        "1. Introduction & general concepts (30 min): Supervised and unsupervised methods, traditional machine learning vs deep learning\n",
        "2. Data preprocessing (30 min): Data filtering, imputation of missing values, dimensionality reduction\n",
        "3. Visualization of multidimensional data (30 min): Pairplots, histograms, t-SNE.\n",
        "4. Training a data classification model (30 min): k-nearest neighbors, Naive Bayes classifier\n",
        "5. Evaluation of classification performance (30 min): Type I and II errors, accuracy, recall, etc. \n",
        "6. Hands-on exercise (30 min)\n",
        "\n",
        "Examples will use the google colab platform http://colab.research.google.com (gmail account required). \n",
        "\n",
        "Short bio:\n",
        "\n",
        "Raul Benitez holds a PhD in physics and is professor at the department of Automatic Control of the Universitat Politècnica de Catalunya (Barcelona, Spain). He coordinates a research group in biomedical image processing that applies machine learning methods to recognize patterns in medical images. He is author of more than 30 journal papers, 77 contributions in international conferences and principal investigator of several national and international projects. \n",
        "\n",
        "https://futur.upc.edu/RaulBeniteziglesias\n",
        "\n",
        "https://scholar.google.com/citations?user=9arewZYAAAAJ&hl=ca\n",
        "\n",
        "contact: raul.benitez@upc.edu\n"
      ]
    },
    {
      "cell_type": "markdown",
      "metadata": {
        "id": "OYY7qWqAQH76"
      },
      "source": [
        "# 1. Introduction & general concepts \n",
        "\n",
        "Supervised and unsupervised methods, traditional machine learning vs deep learning\n"
      ]
    },
    {
      "cell_type": "markdown",
      "metadata": {
        "id": "k6_qi987QYw3"
      },
      "source": [
        "# 2. Data preprocessing \n",
        "Data filtering, imputation of missing values, dimensionality reduction\n"
      ]
    },
    {
      "cell_type": "markdown",
      "metadata": {
        "id": "6dT_gVBFQah6"
      },
      "source": [
        "# 3. Visualization of multidimensional data  \n",
        "\n",
        "Pairplots, histograms, t-SNE.\n",
        "\n"
      ]
    },
    {
      "cell_type": "markdown",
      "metadata": {
        "id": "7iVsyp9_QcX7"
      },
      "source": [
        "# 4. Training a data classification model \n",
        "k-nearest neighbors, Naive Bayes classifier\n",
        "\n"
      ]
    },
    {
      "cell_type": "markdown",
      "metadata": {
        "id": "8SCzSKVqQdcB"
      },
      "source": [
        "# 5. Evaluation of classification performance \n",
        "\n",
        "Type I and II errors, accuracy, recall, etc. \n",
        "\n"
      ]
    },
    {
      "cell_type": "markdown",
      "metadata": {
        "id": "xIMkhIDRQep8"
      },
      "source": [
        "# 6. Hands-on exercise"
      ]
    },
    {
      "cell_type": "code",
      "metadata": {
        "id": "qUVxRWsKP6Ei"
      },
      "source": [
        ""
      ],
      "execution_count": null,
      "outputs": []
    }
  ]
}