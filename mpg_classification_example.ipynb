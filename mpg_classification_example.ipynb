{
  "nbformat": 4,
  "nbformat_minor": 0,
  "metadata": {
    "colab": {
      "name": "mpg_classification_example.ipynb",
      "provenance": [],
      "authorship_tag": "ABX9TyOQuPU0V26Wbdqs/kxHEwlR",
      "include_colab_link": true
    },
    "kernelspec": {
      "name": "python3",
      "display_name": "Python 3"
    },
    "language_info": {
      "name": "python"
    }
  },
  "cells": [
    {
      "cell_type": "markdown",
      "metadata": {
        "id": "view-in-github",
        "colab_type": "text"
      },
      "source": [
        "<a href=\"https://colab.research.google.com/github/raulbenitez/introML_GNSSACADEMY/blob/main/mpg_classification_example.ipynb\" target=\"_parent\"><img src=\"https://colab.research.google.com/assets/colab-badge.svg\" alt=\"Open In Colab\"/></a>"
      ]
    },
    {
      "cell_type": "code",
      "metadata": {
        "colab": {
          "base_uri": "https://localhost:8080/"
        },
        "id": "I18gXqOJF3hC",
        "outputId": "d86094a5-e950-44a9-d33e-50920949b8fe"
      },
      "source": [
        "import pandas as pd \n",
        "import seaborn as sns\n",
        "from sklearn.model_selection import train_test_split\n",
        "\n",
        "mpg = sns.load_dataset(\"mpg\") # load dataset\n",
        "\n",
        "mpg.dropna(inplace=True) # remove observations with NaNs\n",
        "\n",
        "mpg.columns\n"
      ],
      "execution_count": null,
      "outputs": [
        {
          "output_type": "execute_result",
          "data": {
            "text/plain": [
              "Index(['mpg', 'cylinders', 'displacement', 'horsepower', 'weight',\n",
              "       'acceleration', 'model_year', 'origin', 'name'],\n",
              "      dtype='object')"
            ]
          },
          "metadata": {
            "tags": []
          },
          "execution_count": 19
        }
      ]
    },
    {
      "cell_type": "code",
      "metadata": {
        "id": "nhkVYCfnHkTH"
      },
      "source": [
        "mpg.drop(['name'],axis=1, inplace=True)\n",
        "\n",
        "y = mpg['origin'] # class labels\n",
        "\n",
        "mpg.drop(['origin'],axis=1, inplace=True)\n",
        "\n",
        "X = mpg # data matrix\n"
      ],
      "execution_count": null,
      "outputs": []
    },
    {
      "cell_type": "code",
      "metadata": {
        "id": "Qn2R1HK7HSVn"
      },
      "source": [
        "\n",
        "# split data into training and test subsets: \n",
        "Xtrain, Xtest, ytrain, ytest = train_test_split(X, y, random_state=0,train_size=0.7)"
      ],
      "execution_count": null,
      "outputs": []
    },
    {
      "cell_type": "code",
      "metadata": {
        "colab": {
          "base_uri": "https://localhost:8080/"
        },
        "id": "xwnT5enjGFwY",
        "outputId": "a509c7f3-fe39-4444-b260-129cf8c35cb4"
      },
      "source": [
        "X.shape"
      ],
      "execution_count": null,
      "outputs": [
        {
          "output_type": "execute_result",
          "data": {
            "text/plain": [
              "(392, 7)"
            ]
          },
          "metadata": {
            "tags": []
          },
          "execution_count": 22
        }
      ]
    },
    {
      "cell_type": "code",
      "metadata": {
        "colab": {
          "base_uri": "https://localhost:8080/"
        },
        "id": "avdXJZf3GiRp",
        "outputId": "18818f69-5491-4128-9957-e34660fe14e7"
      },
      "source": [
        "Xtrain.shape"
      ],
      "execution_count": null,
      "outputs": [
        {
          "output_type": "execute_result",
          "data": {
            "text/plain": [
              "(274, 7)"
            ]
          },
          "metadata": {
            "tags": []
          },
          "execution_count": 23
        }
      ]
    },
    {
      "cell_type": "code",
      "metadata": {
        "colab": {
          "base_uri": "https://localhost:8080/"
        },
        "id": "RlxuNS5iH4-R",
        "outputId": "cc59ee72-105e-4f51-d8b9-374ad40d74e4"
      },
      "source": [
        "from sklearn.naive_bayes import GaussianNB\n",
        "gnb = GaussianNB()\n",
        "\n",
        "y_test_pred = gnb.fit(Xtrain, ytrain).predict(Xtest)\n",
        "print(y_test_pred)\n",
        "\n",
        "from sklearn.metrics import confusion_matrix\n",
        "confusion_matrix(ytest, y_test_pred)"
      ],
      "execution_count": null,
      "outputs": [
        {
          "output_type": "stream",
          "text": [
            "['japan' 'europe' 'usa' 'japan' 'japan' 'usa' 'japan' 'europe' 'usa'\n",
            " 'europe' 'europe' 'usa' 'europe' 'usa' 'usa' 'japan' 'europe' 'usa'\n",
            " 'japan' 'japan' 'usa' 'usa' 'europe' 'usa' 'japan' 'usa' 'japan' 'europe'\n",
            " 'usa' 'usa' 'usa' 'japan' 'europe' 'japan' 'usa' 'japan' 'japan' 'usa'\n",
            " 'usa' 'usa' 'usa' 'japan' 'japan' 'usa' 'japan' 'usa' 'japan' 'usa' 'usa'\n",
            " 'usa' 'japan' 'usa' 'usa' 'europe' 'japan' 'usa' 'usa' 'usa' 'japan'\n",
            " 'japan' 'usa' 'japan' 'japan' 'usa' 'japan' 'usa' 'usa' 'japan' 'europe'\n",
            " 'japan' 'japan' 'japan' 'usa' 'usa' 'usa' 'usa' 'europe' 'usa' 'japan'\n",
            " 'japan' 'usa' 'japan' 'usa' 'japan' 'usa' 'usa' 'europe' 'japan' 'japan'\n",
            " 'europe' 'europe' 'usa' 'europe' 'usa' 'usa' 'europe' 'japan' 'europe'\n",
            " 'japan' 'japan' 'usa' 'japan' 'japan' 'europe' 'japan' 'usa' 'japan'\n",
            " 'usa' 'europe' 'usa' 'usa' 'japan' 'japan' 'usa' 'japan' 'japan' 'europe'\n",
            " 'usa']\n"
          ],
          "name": "stdout"
        },
        {
          "output_type": "execute_result",
          "data": {
            "text/plain": [
              "array([[ 8, 14,  1],\n",
              "       [ 4, 19,  1],\n",
              "       [ 9, 12, 50]])"
            ]
          },
          "metadata": {
            "tags": []
          },
          "execution_count": 24
        }
      ]
    }
  ]
}